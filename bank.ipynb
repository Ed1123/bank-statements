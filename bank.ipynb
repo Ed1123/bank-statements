{
 "cells": [
  {
   "cell_type": "code",
   "execution_count": null,
   "metadata": {},
   "outputs": [],
   "source": [
    "%pip install pypdf"
   ]
  },
  {
   "cell_type": "code",
   "execution_count": null,
   "metadata": {},
   "outputs": [],
   "source": [
    "from pypdf import PdfReader\n",
    "\n",
    "reader = PdfReader(\"statements/bbva_signature_eecc_24_01.pdf\")\n",
    "page = reader.pages[1]\n",
    "print(page.extract_text())"
   ]
  },
  {
   "cell_type": "code",
   "execution_count": null,
   "metadata": {},
   "outputs": [],
   "source": [
    "text = page.extract_text(extraction_mode=\"layout\", layout_mode_space_vertically=False)\n",
    "lines = text.splitlines()\n",
    "test_line = lines[15]\n",
    "test_line"
   ]
  },
  {
   "cell_type": "code",
   "execution_count": null,
   "metadata": {},
   "outputs": [],
   "source": [
    "import re\n",
    "\n",
    "parsed_lines = []\n",
    "for line in lines:\n",
    "    parsed_line = re.sub(r' {2,}', '|', line).split('|')\n",
    "    parsed_lines.append(parsed_line)\n",
    "    print(parsed_line)"
   ]
  },
  {
   "cell_type": "code",
   "execution_count": null,
   "metadata": {},
   "outputs": [],
   "source": [
    "from datetime import date\n",
    "from enum import Enum\n",
    "from dataclasses import dataclass\n",
    "\n",
    "class Currency(Enum):\n",
    "    PEN = \"PEN\"\n",
    "    USD = \"USD\"\n",
    "\n",
    "@dataclass\n",
    "class Operation:\n",
    "    date: date\n",
    "    description: str\n",
    "    country: str | None\n",
    "    amount: float\n",
    "    currency: Currency\n",
    "\n",
    "@dataclass\n",
    "class Holder:\n",
    "    name: str\n",
    "    ending_card: str\n",
    "    operations: list[Operation]\n",
    "\n",
    "def parse_amount(amount: str) -> float | None:\n",
    "    if amount == \"---\":\n",
    "        return None\n",
    "    return float(amount.replace(\",\", \"\"))\n",
    "\n",
    "def parse_operation_line(line: list[str]) -> Operation:\n",
    "    if len(line) == 6:\n",
    "        pen_amount = parse_amount(line[4])\n",
    "        usd_amount = parse_amount(line[5])\n",
    "        amount = pen_amount if pen_amount is not None else usd_amount\n",
    "        if amount is None:\n",
    "            raise ValueError(\"Invalid amount\", line)\n",
    "        day, month = map(int, line[1].split(\"-\"))\n",
    "        return Operation(\n",
    "            date=date(2021, month, day),\n",
    "            description=line[2],\n",
    "            country=line[3],\n",
    "            amount=amount,\n",
    "            currency=Currency.PEN if line[4] != \"---\" else Currency.USD\n",
    "        )\n",
    "    elif len(line) == 5:\n",
    "        pen_amount = parse_amount(line[3])\n",
    "        usd_amount = parse_amount(line[4])\n",
    "        amount = pen_amount if pen_amount is not None else usd_amount\n",
    "        if amount is None:\n",
    "            raise ValueError(\"Invalid amount\", line)\n",
    "        day, month = map(int, line[1].split(\"-\"))\n",
    "        return Operation(\n",
    "            date=date(2021, month, day),\n",
    "            description=line[2],\n",
    "            country=None,\n",
    "            amount=amount,\n",
    "            currency=Currency.PEN if line[3] != \"---\" else Currency.USD\n",
    "        )\n",
    "    raise ValueError(\"Invalid line\") \n",
    "\n",
    "holders = []\n",
    "for line in parsed_lines:\n",
    "    print(line)\n",
    "    if line[0][:10] == \"DETALLE DE\":\n",
    "        name, ending_card = line[1].split(\" - \")\n",
    "        holders.append(Holder(name, ending_card, []))\n",
    "    elif len(holders) > 0:\n",
    "        holders[-1].operations.append(parse_operation_line(line))\n",
    "holders\n"
   ]
  },
  {
   "cell_type": "code",
   "execution_count": null,
   "metadata": {},
   "outputs": [],
   "source": [
    "total = 0\n",
    "for operation in holders[2].operations:\n",
    "    if operation.currency == Currency.USD:\n",
    "        continue\n",
    "    print(operation.amount)\n",
    "    total += operation.amount\n",
    "print(total)"
   ]
  }
 ],
 "metadata": {
  "kernelspec": {
   "display_name": "Python 3",
   "language": "python",
   "name": "python3"
  },
  "language_info": {
   "codemirror_mode": {
    "name": "ipython",
    "version": 3
   },
   "file_extension": ".py",
   "mimetype": "text/x-python",
   "name": "python",
   "nbconvert_exporter": "python",
   "pygments_lexer": "ipython3",
   "version": "3.12.2"
  }
 },
 "nbformat": 4,
 "nbformat_minor": 2
}
